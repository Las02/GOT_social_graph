{
 "cells": [
  {
   "cell_type": "code",
   "execution_count": 4,
   "id": "917b3be4-2ed4-4a54-b786-0dfe69b6d97a",
   "metadata": {
    "scrolled": true
   },
   "outputs": [],
   "source": [
    "def format_name(person_list: list, verbose = False) -> list:\n",
    "    metadata = pd.read_csv('../data/characher_metadata2.csv')\n",
    "    c2n = pd.read_csv('../data/characterToName.csv', header = None)\n",
    "\n",
    "    # 'One comprehenssion to rule them all, One comprehenssion to find them, One comprehenssion to bring them all and in the darkness bind them.\n",
    "    alias2name = {alias.strip().lower():name.strip().lower() for alias, name in zip(c2n.iloc[:,0],c2n.iloc[:,1]) if alias is not np.nan and name is not np.nan}\n",
    "    metadata_ls = [person.lower() for person in metadata.iloc[:,0]]\n",
    "    metadata_uniq = set(metadata_ls)\n",
    "    \n",
    "    valid_persons = []\n",
    "    for person in person_list:\n",
    "        person = person.lower()\n",
    "        person = person.replace('king', '')\n",
    "        person = person.replace('young', '')\n",
    "        person = person.replace('ser', '')\n",
    "        person = person.replace('lord', '')\n",
    "        person = person.replace('maester', '')\n",
    "        person = person.replace('grand maester', '')\n",
    "        person = person.strip()\n",
    "    \n",
    "        if person in metadata_uniq:\n",
    "            valid_persons.append(person)\n",
    "    #ic(valid_persons)\n",
    "            \n",
    "        if person not in metadata_uniq:\n",
    "            if person in alias2name:\n",
    "                valid_persons.append(alias2name[person])\n",
    "                if verbose and person != alias2name[person]:\n",
    "                    print(f'{person} -> {alias2name[person]}')\n",
    "                    pass\n",
    "            else:\n",
    "                valid_persons.append(np.nan)\n",
    "                if verbose:\n",
    "                    print(f'{person} -> nan')\n",
    "    return valid_persons"
   ]
  }
 ],
 "metadata": {
  "kernelspec": {
   "display_name": "Python 3 (ipykernel)",
   "language": "python",
   "name": "python3"
  },
  "language_info": {
   "codemirror_mode": {
    "name": "ipython",
    "version": 3
   },
   "file_extension": ".py",
   "mimetype": "text/x-python",
   "name": "python",
   "nbconvert_exporter": "python",
   "pygments_lexer": "ipython3",
   "version": "3.10.8"
  }
 },
 "nbformat": 4,
 "nbformat_minor": 5
}
