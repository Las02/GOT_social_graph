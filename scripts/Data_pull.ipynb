{
 "cells": [
  {
   "cell_type": "markdown",
   "metadata": {},
   "source": [
    "# Downloading scripts and extracting character lines"
   ]
  },
  {
   "cell_type": "code",
   "execution_count": 8,
   "metadata": {},
   "outputs": [],
   "source": [
    "import pandas as pd\n",
    "import lyricsgenius\n",
    "import json\n",
    "import numpy as np\n",
    "import networkx as nx\n",
    "import pickle\n",
    "import ast\n",
    "import seaborn as sns"
   ]
  },
  {
   "cell_type": "code",
   "execution_count": 33,
   "metadata": {},
   "outputs": [],
   "source": [
    "episodefile = open(\"../data/EpisodeList.txt\",\"r\")\n",
    "episodeList = []\n",
    "\n",
    "for line in episodefile:\n",
    "    episodeList.append(line.strip().lower().replace(\",\",\"\"))\n",
    "\n",
    "SeasonList = [10,10,10,10,10,10,7,6]\n",
    "episodeTuple = []\n",
    "ekstranumb = 0\n",
    "for numb in range(len(SeasonList)):\n",
    "    for i in range(SeasonList[numb]):\n",
    "        episodeTuple.append((numb+1, episodeList[i+ekstranumb]))\n",
    "    ekstranumb += SeasonList[numb]"
   ]
  },
  {
   "cell_type": "markdown",
   "metadata": {},
   "source": [
    "Below, all scripts are downloaded using the lyrics genius api. \n",
    "\n",
    "Caution: this takes a long time to run and overwrites the script files which are already present. For that reason they are outcommented."
   ]
  },
  {
   "cell_type": "code",
   "execution_count": 104,
   "metadata": {},
   "outputs": [],
   "source": [
    "#genius = lyricsgenius.Genius(\"Apa5yYNZVRkIvn1izsQWN5l957pSR9jiG24s8ExAPKE9FHY9gdq4W8P7GPavWn1n\")\n",
    "#artist = genius.search_artist(\"Game of Thrones\")\n",
    "#artist.save_lyrics()"
   ]
  },
  {
   "cell_type": "markdown",
   "metadata": {},
   "source": [
    "Below is a slightly complicated dict comprehension that creates a dictionary with episodes being the key, and the scripts being the value. \n",
    "\n",
    "The scripts were downloaded using the Genius api, and therefore the episodes are accessed using the \"songs\" keyword, as the genius website, and thus its API, usually deals in songs, but apparently also posts some movie scripts as is the case here."
   ]
  },
  {
   "cell_type": "code",
   "execution_count": 34,
   "metadata": {},
   "outputs": [],
   "source": [
    "\n",
    "jFile = open(\"Lyrics_GameofThrones.json\", \"r\")\n",
    "j = json.load(jFile)\n",
    "\n",
    "LyricsListDict = {j[\"songs\"][w][\"title_with_featured\"].lower().replace(\",\",\"\"):j[\"songs\"][w][\"lyrics\"].encode(\"UTF-8\").decode(\"UTF-8\") \n",
    "                    for w in range(len(j[\"songs\"])) \n",
    "                    if j[\"songs\"][w][\"title_with_featured\"].lower().replace(\",\",\"\") in episodeList}"
   ]
  },
  {
   "cell_type": "markdown",
   "metadata": {},
   "source": [
    "Here a dictionary is created using the title of each episode as the key and the values being two other dictionarys keys, one being the script for the episode. Season 1 was formatted differently, so these scripts were manually edited a bit to make the parsing easier, for that reason, season 1 scripts are extracted from txt files instead of from the LyricsListDict\n",
    "\n",
    "This is the format of the dict: \n",
    "\n",
    "SeasonDict format -> {Title:{Season:SeasonNumber,Script:ScriptText}}"
   ]
  },
  {
   "cell_type": "code",
   "execution_count": 35,
   "metadata": {},
   "outputs": [],
   "source": [
    "SeasonDict = dict()\n",
    "\n",
    "season1counter = 0\n",
    "for season, title in episodeTuple:\n",
    "    if season != 1:\n",
    "        SeasonDict[title] = {\"season\": int(season),\"script\":LyricsListDict[title]}\n",
    "    else:\n",
    "        season1counter += 1\n",
    "        script = \"\"\n",
    "        path = f\"../data/GOT_Season_1_Formatted/Episode{season1counter}.txt\"\n",
    "        with open(path,'r') as file:\n",
    "            script = \" \".join(file.readlines())\n",
    "        SeasonDict[title] = {\"season\": int(season),\"script\":script}"
   ]
  },
  {
   "cell_type": "markdown",
   "metadata": {},
   "source": [
    "Below is the functions used for extracting the lines spoken in the scripts.\n",
    "\n",
    "The sceneNameChecker function tries to find out if a line is the start of a new scene and attempts to extract a name for the scene.\n",
    "\n",
    "The createDataframefromDict function takes the SeasonDict created above, and parses all keys inorder to find out what is a spoken line, and what is a new scene etc. This is saved to a dataframe, with each row being a new line spoken. Each row has metadata, such a person that spoke, episode title etc."
   ]
  },
  {
   "cell_type": "code",
   "execution_count": 36,
   "metadata": {},
   "outputs": [],
   "source": [
    "def sceneNameChecker(screenLine:str, i:int, lineSplit:str, sceneList:list, saveResult: bool):\n",
    "    sceneName = None\n",
    "    \n",
    "    if lineSplit[0].upper() == \"CUT TO\":\n",
    "        sceneName = lineSplit[1].strip()\n",
    "\n",
    "    elif screenLine.strip().startswith('EXT'):\n",
    "        sceneName = screenLine.strip()[4:].strip()\n",
    "\n",
    "    elif screenLine.strip().startswith('INT'):\n",
    "        sceneName = screenLine.strip()[4:].strip()\n",
    "\n",
    "    elif 'EXT.' in screenLine.strip():\n",
    "        sceneName = screenLine.split(\"EXT.\")[1].strip()\n",
    "\n",
    "    elif 'EXT:' in screenLine.strip():\n",
    "        sceneName = screenLine.split(\"EXT:\")[1].strip()\n",
    "\n",
    "    elif 'INT:' in screenLine.strip():\n",
    "        sceneName = screenLine.split(\"INT:\")[1].strip()\n",
    "\n",
    "    elif 'INT.' in screenLine.strip():\n",
    "        sceneName = screenLine.split(\"INT.\")[1].strip()\n",
    "        \n",
    "    elif screenLine.strip().startswith(\"--------\"):\n",
    "        sceneName = \"Unnamed Scene\"\n",
    "\n",
    "    elif screenLine.upper().strip().startswith(\"CUT TO\"):\n",
    "        sceneName = screenLine.strip()[7:].strip()\n",
    "\n",
    "    elif \"SCENE SHIFTS\" in screenLine.upper():\n",
    "        sceneName = screenLine.upper().split(\"SCENE SHIFTS\")[1].split(\".\")[0].replace(\",\",\"\").strip()\n",
    "\n",
    "    elif \"SCENE CHANGES\" in screenLine.upper():\n",
    "        sceneName = screenLine.upper().split(\"SCENE CHANGES\")[1].split(\".\")[0].replace(\",\",\"\").strip()\n",
    "\n",
    "    elif \"NEWSCENE\" in screenLine.upper():\n",
    "        sceneName = \"New Scene\"\n",
    "\n",
    "    elif i == 0:\n",
    "        sceneName = \"Opening Scene\"\n",
    "    \n",
    "    #Giving the sceneName an extra number if the sceneName occurs multiple times \n",
    "    if sceneName is not None:\n",
    "        if str(sceneName) in sceneList:\n",
    "            try:\n",
    "                sceneNameOld = sceneName\n",
    "                sceneName = str(sceneName) + \"_\" + str(sceneList.count(sceneName))\n",
    "                if saveResult is False:\n",
    "                    return True, True, True\n",
    "                sceneList.append(str(sceneNameOld))\n",
    "                \n",
    "            except TypeError as error:\n",
    "                print(\"Error:\", sceneName)\n",
    "            \n",
    "        else:\n",
    "            if saveResult is False:\n",
    "                return True, \"True\", \"True\"\n",
    "            sceneList.append(str(sceneName))\n",
    "        \n",
    "        return True, str(sceneName), sceneList\n",
    "       \n",
    "        \n",
    "    return False, False, False\n",
    "\n",
    "\n",
    "def createDataframefromDict(screenplayDict:dict):\n",
    " \n",
    "    dfcolumns = ['Person','SeasonNr','EpisodeID','EpisodeTitle','Scene','ScreenLine']\n",
    "\n",
    "\n",
    "    sceneList = []\n",
    "    allLines = []\n",
    "    episodeID = 0\n",
    "    \n",
    "\n",
    "    for title in screenplayDict:\n",
    "\n",
    "        episodeTitle = title\n",
    "        episodeID += 1\n",
    "        seasonNr = int(screenplayDict[title]['season'])\n",
    "        \n",
    "        sceneName = None\n",
    "\n",
    "        screenLines = screenplayDict[title]['script'].replace(\"\\n\\n\\n\", \"NEWSCENE\\n\")\n",
    "        if seasonNr == 1 and episodeID != 8:\n",
    "            screenLines = screenLines.split(\"\\n \\n\")\n",
    "        else:\n",
    "            screenLines = screenLines.split(\"\\n\")\n",
    "        if \"\" in screenLines:\n",
    "            screenLines.remove(\"\")\n",
    "        \n",
    "        for i in range(len(screenLines)):\n",
    "            \n",
    "            lines = screenLines[i].split(\"\\n\")\n",
    "            \n",
    "            for line in lines:\n",
    "        \n",
    "                lineSplit = line.strip().split(\":\")\n",
    "                \n",
    "\n",
    "                if len(lineSplit) > 1 or sceneNameChecker(line,i,lineSplit,sceneList, False)[0] is True:\n",
    "\n",
    "                    if sceneNameChecker(line,i,lineSplit,sceneList, False)[0] is True:\n",
    "                        _, sceneName, sceneList = sceneNameChecker(line,i,lineSplit, sceneList, True)\n",
    "                                    \n",
    "\n",
    "                    elif len(lineSplit) >= 2:\n",
    "                        if sceneName is None:\n",
    "                            _, sceneName, sceneList = sceneNameChecker(line,0,lineSplit, sceneList, True)\n",
    "\n",
    "                        person = str(lineSplit[0].split(\"(\")[0].strip()).upper()\n",
    "                        screenLine = str(lineSplit[1]).strip()\n",
    "                        \n",
    "                        newEntry = [person, seasonNr, episodeID, episodeTitle, sceneName, screenLine]\n",
    "                        \n",
    "                        allLines.append(newEntry)\n",
    "                        \n",
    "                    \n",
    "                else:\n",
    "                    if (\"EXT.\") in line:\n",
    "                        print(i,episodeID, \"Error\", lineSplit)\n",
    "                    if \"SCENE SHIFTS\" in str(line).upper() or \"SCENE CHANGES\" in str(line).upper() and len(line[0].strip()) > 0:\n",
    "                        \n",
    "                        _, sceneName, sceneList = sceneNameChecker(line,0,lineSplit, sceneList, True)\n",
    "                        #print(sceneName)\n",
    "            \n",
    "\n",
    "\n",
    "    df = pd.DataFrame(allLines,columns=dfcolumns)\n",
    "    return df"
   ]
  },
  {
   "cell_type": "markdown",
   "metadata": {},
   "source": [
    "This function is used to format the names correctly as they are written in slightly different ways and sometimes misspelled in these transcriptions. Other times a character is only mentioned by their first name or are called king ... and this function also handles such cases. The \"correct\" names were found by accessing the Game of Thrones wiki page and collecting the names from each page on there. "
   ]
  },
  {
   "cell_type": "code",
   "execution_count": 37,
   "metadata": {},
   "outputs": [],
   "source": [
    "def format_name(person_list: list, verbose = False) -> list:\n",
    "    metadata = pd.read_csv('../data/characher_metadata2.csv')\n",
    "    c2n = pd.read_csv('../data/characterToName.csv', header = None)\n",
    "\n",
    "    # 'One comprehenssion to rule them all, One comprehenssion to find them, One comprehenssion to bring them all and in the darkness bind them.\n",
    "    alias2name = {alias.strip().lower():name.strip().lower() for alias, name in zip(c2n.iloc[:,0],c2n.iloc[:,1]) if alias is not np.nan and name is not np.nan}\n",
    "    metadata_ls = [person.lower() for person in metadata.iloc[:,0]]\n",
    "    metadata_uniq = set(metadata_ls)\n",
    "\n",
    "    \n",
    "    valid_persons = []\n",
    "    for person in person_list:\n",
    "        person = person.lower()\n",
    "        person = person.replace('king', '')\n",
    "        person = person.replace('young', '')\n",
    "        person = person.replace('ser', '')\n",
    "        person = person.replace('lord', '')\n",
    "        person = person.replace('maester', '')\n",
    "        person = person.replace('grand maester', '')\n",
    "        person = person.strip()\n",
    "    \n",
    "        if person in metadata_uniq:\n",
    "            valid_persons.append(person)\n",
    "    \n",
    "            \n",
    "        if person not in metadata_uniq:\n",
    "            if person in alias2name:\n",
    "                valid_persons.append(alias2name[person])\n",
    "                if verbose and person != alias2name[person]:\n",
    "                    print(f'{person} -> {alias2name[person]}')\n",
    "                    pass\n",
    "            else:\n",
    "                valid_persons.append(np.nan)\n",
    "                if verbose:\n",
    "                    print(f'{person} -> nan')\n",
    "    \n",
    "    \n",
    "    \n",
    "    return valid_persons"
   ]
  },
  {
   "cell_type": "markdown",
   "metadata": {},
   "source": [
    "The dataframe is created by using the function, afterwhich the \"Person\" column is renamed using the format_name function. At last, any nans are dropped, which occurs for a multitude of reasons."
   ]
  },
  {
   "cell_type": "code",
   "execution_count": 38,
   "metadata": {},
   "outputs": [
    {
     "data": {
      "text/html": [
       "<div>\n",
       "<style scoped>\n",
       "    .dataframe tbody tr th:only-of-type {\n",
       "        vertical-align: middle;\n",
       "    }\n",
       "\n",
       "    .dataframe tbody tr th {\n",
       "        vertical-align: top;\n",
       "    }\n",
       "\n",
       "    .dataframe thead th {\n",
       "        text-align: right;\n",
       "    }\n",
       "</style>\n",
       "<table border=\"1\" class=\"dataframe\">\n",
       "  <thead>\n",
       "    <tr style=\"text-align: right;\">\n",
       "      <th></th>\n",
       "      <th>Person</th>\n",
       "      <th>SeasonNr</th>\n",
       "      <th>EpisodeID</th>\n",
       "      <th>EpisodeTitle</th>\n",
       "      <th>Scene</th>\n",
       "      <th>ScreenLine</th>\n",
       "    </tr>\n",
       "  </thead>\n",
       "  <tbody>\n",
       "    <tr>\n",
       "      <th>0</th>\n",
       "      <td>waymar royce</td>\n",
       "      <td>1</td>\n",
       "      <td>1</td>\n",
       "      <td>winter is coming</td>\n",
       "      <td>Unknown</td>\n",
       "      <td>What d'you expect? They're savages. One lot st...</td>\n",
       "    </tr>\n",
       "    <tr>\n",
       "      <th>1</th>\n",
       "      <td>will</td>\n",
       "      <td>1</td>\n",
       "      <td>1</td>\n",
       "      <td>winter is coming</td>\n",
       "      <td>Unknown</td>\n",
       "      <td>I've never seen wildlings do a thing like this...</td>\n",
       "    </tr>\n",
       "    <tr>\n",
       "      <th>2</th>\n",
       "      <td>waymar royce</td>\n",
       "      <td>1</td>\n",
       "      <td>1</td>\n",
       "      <td>winter is coming</td>\n",
       "      <td>Unknown</td>\n",
       "      <td>How close did you get?</td>\n",
       "    </tr>\n",
       "    <tr>\n",
       "      <th>3</th>\n",
       "      <td>will</td>\n",
       "      <td>1</td>\n",
       "      <td>1</td>\n",
       "      <td>winter is coming</td>\n",
       "      <td>Unknown</td>\n",
       "      <td>Close as any man would.</td>\n",
       "    </tr>\n",
       "    <tr>\n",
       "      <th>4</th>\n",
       "      <td>gared</td>\n",
       "      <td>1</td>\n",
       "      <td>1</td>\n",
       "      <td>winter is coming</td>\n",
       "      <td>Unknown</td>\n",
       "      <td>We should head back to the wall.</td>\n",
       "    </tr>\n",
       "    <tr>\n",
       "      <th>...</th>\n",
       "      <td>...</td>\n",
       "      <td>...</td>\n",
       "      <td>...</td>\n",
       "      <td>...</td>\n",
       "      <td>...</td>\n",
       "      <td>...</td>\n",
       "    </tr>\n",
       "    <tr>\n",
       "      <th>24997</th>\n",
       "      <td>sam</td>\n",
       "      <td>8</td>\n",
       "      <td>73</td>\n",
       "      <td>the iron throne</td>\n",
       "      <td>SMALL COUNCIL CHAMBER_4</td>\n",
       "      <td>Uh... the Archmaester is less than enthusiasti...</td>\n",
       "    </tr>\n",
       "    <tr>\n",
       "      <th>24998</th>\n",
       "      <td>bronn</td>\n",
       "      <td>8</td>\n",
       "      <td>73</td>\n",
       "      <td>the iron throne</td>\n",
       "      <td>SMALL COUNCIL CHAMBER_4</td>\n",
       "      <td>Well, I imagine he isn't using them properly.</td>\n",
       "    </tr>\n",
       "    <tr>\n",
       "      <th>24999</th>\n",
       "      <td>brienne of tarth</td>\n",
       "      <td>8</td>\n",
       "      <td>73</td>\n",
       "      <td>the iron throne</td>\n",
       "      <td>SMALL COUNCIL CHAMBER_4</td>\n",
       "      <td>I think we can all agree that ships take prece...</td>\n",
       "    </tr>\n",
       "    <tr>\n",
       "      <th>25000</th>\n",
       "      <td>bronn</td>\n",
       "      <td>8</td>\n",
       "      <td>73</td>\n",
       "      <td>the iron throne</td>\n",
       "      <td>SMALL COUNCIL CHAMBER_4</td>\n",
       "      <td>I think that's a very presumptuous statement.</td>\n",
       "    </tr>\n",
       "    <tr>\n",
       "      <th>25001</th>\n",
       "      <td>tyrion lannister</td>\n",
       "      <td>8</td>\n",
       "      <td>73</td>\n",
       "      <td>the iron throne</td>\n",
       "      <td>SMALL COUNCIL CHAMBER_4</td>\n",
       "      <td>I once brought a jackass and a honeycomb into ...</td>\n",
       "    </tr>\n",
       "  </tbody>\n",
       "</table>\n",
       "<p>23634 rows × 6 columns</p>\n",
       "</div>"
      ],
      "text/plain": [
       "                 Person  SeasonNr  EpisodeID      EpisodeTitle  \\\n",
       "0          waymar royce         1          1  winter is coming   \n",
       "1                  will         1          1  winter is coming   \n",
       "2          waymar royce         1          1  winter is coming   \n",
       "3                  will         1          1  winter is coming   \n",
       "4                 gared         1          1  winter is coming   \n",
       "...                 ...       ...        ...               ...   \n",
       "24997               sam         8         73   the iron throne   \n",
       "24998             bronn         8         73   the iron throne   \n",
       "24999  brienne of tarth         8         73   the iron throne   \n",
       "25000             bronn         8         73   the iron throne   \n",
       "25001  tyrion lannister         8         73   the iron throne   \n",
       "\n",
       "                         Scene  \\\n",
       "0                      Unknown   \n",
       "1                      Unknown   \n",
       "2                      Unknown   \n",
       "3                      Unknown   \n",
       "4                      Unknown   \n",
       "...                        ...   \n",
       "24997  SMALL COUNCIL CHAMBER_4   \n",
       "24998  SMALL COUNCIL CHAMBER_4   \n",
       "24999  SMALL COUNCIL CHAMBER_4   \n",
       "25000  SMALL COUNCIL CHAMBER_4   \n",
       "25001  SMALL COUNCIL CHAMBER_4   \n",
       "\n",
       "                                              ScreenLine  \n",
       "0      What d'you expect? They're savages. One lot st...  \n",
       "1      I've never seen wildlings do a thing like this...  \n",
       "2                                 How close did you get?  \n",
       "3                                Close as any man would.  \n",
       "4                       We should head back to the wall.  \n",
       "...                                                  ...  \n",
       "24997  Uh... the Archmaester is less than enthusiasti...  \n",
       "24998      Well, I imagine he isn't using them properly.  \n",
       "24999  I think we can all agree that ships take prece...  \n",
       "25000      I think that's a very presumptuous statement.  \n",
       "25001  I once brought a jackass and a honeycomb into ...  \n",
       "\n",
       "[23634 rows x 6 columns]"
      ]
     },
     "execution_count": 38,
     "metadata": {},
     "output_type": "execute_result"
    }
   ],
   "source": [
    "df = createDataframefromDict(SeasonDict)\n",
    "df[\"Person\"] = format_name(df.Person, verbose = False)\n",
    "pd.DataFrame.dropna(df,axis=0, how = 'any', inplace = True)\n",
    "df"
   ]
  },
  {
   "cell_type": "markdown",
   "metadata": {},
   "source": [
    "The dataframe is saved for later processing."
   ]
  },
  {
   "cell_type": "code",
   "execution_count": 39,
   "metadata": {},
   "outputs": [],
   "source": [
    "df.to_csv('../data/scene_data.csv')\n"
   ]
  },
  {
   "cell_type": "markdown",
   "metadata": {},
   "source": [
    "Another file containing character metadata, such as which house a character belongs to, along with other affiliations, are opened and its informations are added to the scene dataframe."
   ]
  },
  {
   "cell_type": "code",
   "execution_count": 40,
   "metadata": {},
   "outputs": [],
   "source": [
    "D = pd.read_csv('../data/characher_metadata2.csv')\n",
    "#Creating house dict\n",
    "houseDict = dict()\n",
    "for name, houses, affiliation in zip(D.iloc[:,0],D.iloc[:,1],D.iloc[:,2]):\n",
    "    houseDict[name.lower()] = {}\n",
    "    if houses.strip('[]') != '':   \n",
    "        houses = ast.literal_eval(houses)\n",
    "        houselist = []\n",
    "        for house in houses:\n",
    "            houselist.append(house.split(\"/\")[0])\n",
    "            \n",
    "        houseDict[name.lower()][\"house\"] = houselist\n",
    "    if affiliation.strip('[]') != '':  \n",
    "        affiliation = ast.literal_eval(affiliation)\n",
    "        affiliations = []\n",
    "        for aff in affiliation:\n",
    "            affiliations.append(aff.split(\"/\")[0])\n",
    "        \n",
    "        houseDict[name.lower()][\"affiliations\"] = affiliations\n",
    "\n",
    "count = 0\n",
    "for name, house in houseDict.items():\n",
    "    if len(house) > 2:\n",
    "        print(name, house)\n",
    "        count+= 1\n",
    "\n",
    "def getAffiliationsToDF(persons, houseDict):\n",
    "    houseList = []\n",
    "    affiliationList = []\n",
    "    for person in persons:\n",
    "        try:\n",
    "            houseList.append(\", \".join(houseDict[person][\"house\"]).strip())\n",
    "        except KeyError as error:\n",
    "            \n",
    "            houseList.append(\"None\")\n",
    "        try:\n",
    "            affiliationList.append(\", \".join(houseDict[person][\"affiliations\"]).strip())\n",
    "        except KeyError as error:\n",
    "            \n",
    "            affiliationList.append(\"None\")\n",
    "    return houseList, affiliationList\n",
    "df[\"House\"], df[\"Affiliations\"] = getAffiliationsToDF(df[\"Person\"], houseDict)\n",
    "df.to_csv('../data/scene_data.csv')"
   ]
  },
  {
   "cell_type": "markdown",
   "metadata": {},
   "source": [
    "A dict containing informations such as lines spoken, seasonnr of the line, episodeid and title is created, to be used for creating the network and for assigning attributes to the edges."
   ]
  },
  {
   "cell_type": "code",
   "execution_count": 41,
   "metadata": {},
   "outputs": [
    {
     "name": "stdout",
     "output_type": "stream",
     "text": [
      "Nr of scenes in dict: 1561\n",
      "Nr of persons in personLineDict: 344\n"
     ]
    }
   ],
   "source": [
    "lineDict = dict()\n",
    "\n",
    "# LineDict -> key: Scene -> key: person -> value: lines\n",
    "#                        -> value: seasonnr\n",
    "#                        -> value: EpisodeID\n",
    "#                        -> value: EpisodeTitle\n",
    "\n",
    "for scene, person, lines, seasonNr, episodeID, episodeTitle in zip(df.Scene, df.Person, df.ScreenLine, df.SeasonNr, df.EpisodeID, df.EpisodeTitle):\n",
    "    if scene not in lineDict:\n",
    "        lineDict[scene] = {}\n",
    "  \n",
    "    if person not in lineDict[scene]:\n",
    "        lineDict[scene][person] = {}\n",
    "        lineDict[scene][person][\"SeasonNr\"] = seasonNr\n",
    "        lineDict[scene][person][\"EpisodeID\"] = episodeID\n",
    "        lineDict[scene][person][\"EpisodeTitle\"] = episodeTitle\n",
    "        \n",
    "    if \"lines\" not in lineDict[scene][person]: \n",
    "        lineDict[scene][person][\"lines\"] = []\n",
    "    \n",
    "\n",
    "    lineDict[scene][person][\"lines\"].append(lines)\n",
    "\n",
    "personLineDict = dict()\n",
    "\n",
    "for scene, person, lines, seasonNr, episodeID, episodeTitle in zip(df.Scene, df.Person, df.ScreenLine, df.SeasonNr, df.EpisodeID, df.EpisodeTitle):\n",
    "    if person not in personLineDict:\n",
    "        personLineDict[person] = {}\n",
    "    \n",
    "    connectedPersons = [cp for cp in (lineDict[scene]) if cp != person]\n",
    "\n",
    "\n",
    "    for otherPerson in connectedPersons:\n",
    "\n",
    "        if otherPerson not in personLineDict[person]:\n",
    "            personLineDict[person][otherPerson] = {}\n",
    "\n",
    "        if seasonNr not in personLineDict[person][otherPerson]:\n",
    "            personLineDict[person][otherPerson][seasonNr] = {}\n",
    "        \n",
    "        if episodeID not in personLineDict[person][otherPerson][seasonNr]:\n",
    "            personLineDict[person][otherPerson][seasonNr][episodeID] = {}\n",
    "\n",
    "        if episodeTitle not in personLineDict[person][otherPerson][seasonNr][episodeID]:\n",
    "            personLineDict[person][otherPerson][seasonNr][episodeID][episodeTitle] = {}\n",
    "            \n",
    "        if scene not in personLineDict[person][otherPerson][seasonNr][episodeID][episodeTitle]:\n",
    "            personLineDict[person][otherPerson][seasonNr][episodeID][episodeTitle][scene] = lineDict[scene][person][\"lines\"]\n",
    "   \n",
    "    \n",
    "\n",
    "print(\"Nr of scenes in dict:\", len(lineDict))\n",
    "print(\"Nr of persons in personLineDict:\", len(personLineDict))\n",
    "#lineDict[\"Unnamed Scene\"]"
   ]
  },
  {
   "cell_type": "markdown",
   "metadata": {},
   "source": [
    "# Creating the network\n",
    "A directed graph is created and a list of the nodes to be added to the graph is created, containing any house information if the character belongs to a house. \n",
    "Edges are added between persons that are speaking in the same scene, saving all lines the one character says in the scene, as an edge attribute. "
   ]
  },
  {
   "cell_type": "code",
   "execution_count": 42,
   "metadata": {},
   "outputs": [
    {
     "name": "stdout",
     "output_type": "stream",
     "text": [
      "344\n"
     ]
    }
   ],
   "source": [
    "PersonList = set(list(df.Person))\n",
    "\n",
    "nodeList = []\n",
    "for person in PersonList:\n",
    "    if person in houseDict:\n",
    "        nodeList.append((person, houseDict[person]))\n",
    "    else:\n",
    "        nodeList.append((person))\n",
    "\n",
    "G = nx.DiGraph()\n",
    "G.add_nodes_from(nodeList)\n",
    "\n",
    "for person in personLineDict:  \n",
    "    #print(person)  \n",
    "    for connectedPersons, lines in personLineDict[person].items():\n",
    "\n",
    "        G.add_edge(person, connectedPersons, lines = lines)\n",
    "                \n",
    "\n",
    "print(len(G.nodes()))\n",
    "file = open(\"GOTNetwork.pkl\",'wb')\n",
    "pickle.dump(G,file)\n",
    "file.close()"
   ]
  },
  {
   "cell_type": "markdown",
   "metadata": {},
   "source": [
    "The closeness and degree centrality of the network is calculated and sorted from largest fraction to smallest. Only the centrality measure made it into the report."
   ]
  },
  {
   "cell_type": "code",
   "execution_count": 43,
   "metadata": {},
   "outputs": [
    {
     "name": "stdout",
     "output_type": "stream",
     "text": [
      "[('tyrion lannister', 0.5806700991859978), ('jon snow', 0.5565558924091706), ('arya stark', 0.5510635645235538), ('sansa stark', 0.550158698243548), ('jaime lannister', 0.5465687556775215), ('cersei lannister', 0.5326655758828629), ('daenerys targaryen', 0.5309772539307778), ('bran stark', 0.5292996006798115), ('brienne of tarth', 0.5259758983207548), ('davos seaworth', 0.5235103862973761), ('sandor clegane', 0.5235103862973761), ('bronn', 0.5202587689911813), ('theon greyjoy', 0.517846440850573), ('sam', 0.5154563803543395), ('tormund', 0.5146645886794481), ('eddard stark', 0.5030730438893705), ('gendry', 0.49344130667204816), ('catelyn stark', 0.49344130667204816), ('podrick payne', 0.490551460073676), ('grey worm', 0.48911919303696455), ('petyr baelish', 0.4869864058580243), ('varys', 0.4869864058580243), ('wolkan', 0.48417145553514557), ('yara greyjoy', 0.48208150680621686), ('yohn royce', 0.4786380674718867), ('samwell tarly', 0.4752434712486818), ('robb stark', 0.4725622668974904), ('jorah mormont', 0.468596709413036), ('edmure tully', 0.4627716121965756), ('missandei', 0.4627716121965756), ('janos slynt', 0.4621333065245803), ('melisandre', 0.4621333065245803), ('robin arryn', 0.4577139989485256), ('qyburn', 0.4570895596593734), ('lyanna stark', 0.456466821839674), ('joffrey baratheon', 0.456466821839674), ('euron greyjoy', 0.4552264228672836), ('benjen stark', 0.4552264228672836), ('ironborn', 0.4539927469245538), ('pycelle', 0.44672886297376097), ('robert baratheon', 0.4443589485813272), ('renly baratheon', 0.44318339580730254), ('rodrik cassel', 0.44318339580730254), ('yoren', 0.44201404647799564), ('vale', 0.44201404647799564), ('riverlands', 0.44201404647799564), ('ellaria sand', 0.4414316827803962), ('tywin lannister', 0.43969376276944977), ('olenna tyrell', 0.43739771178893044), ('meryn trant', 0.4323182544907364), ('beric dondarrion', 0.4295469836286163), ('barristan selmy', 0.42790120974498175), ('locke', 0.42518610054609224), ('smalljon umber', 0.42518610054609224), ('rickard karstark', 0.42357351103706786), ('lancel lannister', 0.4230386959978797), ('loras tyrell', 0.4230386959978797), ('margaery tyrell', 0.4182854522226226), ('gilly', 0.41776389928967667), ('dontos hollard', 0.41724364536777175), ('dickon tarly', 0.41724364536777175), ('randyll tarly', 0.41724364536777175), ('grenn', 0.41466169211673354), ('oberyn martell', 0.41414913131065606), ('lyanna mormont', 0.4136378360868157), ('roose bolton', 0.412619023682661), ('pypar', 0.412619023682661), ('ramsay bolton', 0.41160521772766673), ('aemon', 0.41110018065070025), ('mace tyrell', 0.4100938154593889), ('luwin', 0.4100938154593889), ('alton lannister', 0.4080957944340082), ('marillion', 0.4080957944340082), ('shireen baratheon', 0.4075993275308038), ('thoros', 0.40710406710853064), ('ros', 0.406610008774661), ('shae', 0.4061171481579645), ('rast', 0.4056254809083786), ('stannis dwarf', 0.4046457092153632), ('joffrey dwarf', 0.4046457092153632), ('balon dwarf', 0.4046457092153632), ('walder frey', 0.4041575961765027), ('myrcella baratheon', 0.40367065931363943), ('tommen baratheon', 0.40221686342175356), ('stannis baratheon', 0.40221686342175356), ('jory cassel', 0.4002946800840152), ('hodor', 0.3998170014681632), ('gold cloak', 0.39839078148670715), ('jeor mormont', 0.39839078148670715), ('olyvar', 0.3979176332901671), ('meera reed', 0.3974456076279012), ('high septon', 0.39697470050985867), ('the mountain', 0.39697470050985867), ('jojen reed', 0.3965049079648766), ('knight', 0.3955686508032122), ('lysa arryn', 0.39463680474713864), ('alliser thorne', 0.3932472385332403), ('dolorous edd', 0.3932472385332403), ('kevan lannister', 0.3932472385332403), ('knight of house bracken', 0.3918674236611938), ('masha heddle', 0.3918674236611938), ('knight of house whent', 0.3918674236611938), ('ygritte', 0.3909529139210277), ('elia martell', 0.3891366402210461), ('daario naharis', 0.38823481718461267), ('marei', 0.3877854713313897), ('mordane', 0.38733716442811644), ('hizdahr zo loraq', 0.3864436530914887), ('razdal mo eraz', 0.3864436530914887), ('arthur', 0.3851110887704836), ('eddison tollett', 0.3842278064567898), ('styr', 0.3842278064567898), ('three-eyed raven', 0.3842278064567898), ('unsullied', 0.3837876829671486), ('varly', 0.3833485666250809), ('yezzan zo qaggaz', 0.3829104539775094), (\"night's watch\", 0.3824733415871241), ('donnel hill', 0.3824733415871241), ('thenn warg', 0.3824733415871241), ('lothar frey', 0.3824733415871241), ('vardis egen', 0.3824733415871241), ('cooper', 0.3824733415871241), ('shagga', 0.38203722603229273), ('robett glover', 0.3816021039069712), ('brynden tully (blackfish)', 0.3811679718206152), ('olly', 0.38073482639809175), ('quick', 0.38073482639809175), ('hot pie', 0.3803026642795922), ('walder rivers', 0.379871482120545), ('brothel keeper', 0.37944127659152965), ('amory lorch', 0.37901204437819086), ('vicky', 0.37901204437819086), ('nora', 0.37901204437819086), ('rorge', 0.37858378218115335), ('craster', 0.37858378218115335), ('greatjon umber', 0.37815648671593766), ('mhaegen', 0.37815648671593766), ('will', 0.37773015471287563), ('malko', 0.37773015471287563), ('polliver', 0.37773015471287563), ('slaver', 0.37730478291702785), ('mord', 0.37645690700036033), (\"morgan's friend\", 0.3760343964425597), ('morgan', 0.3760343964425597), ('handmaiden', 0.3760343964425597), ('gregor clegane', 0.37561283321784833), ('willa', 0.37561283321784833), ('sarra', 0.37561283321784833), (\"jaqen h'ghar\", 0.37393599021241153), ('osha', 0.37393599021241153), ('mycah', 0.373103170635101), ('hallyne', 0.373103170635101), ('walda frey', 0.373103170635101), ('belicho paenymion', 0.37268815042304865), ('rickon stark', 0.3722740524781341), ('tyene sand', 0.37186087372954574), ('anguy', 0.37144861112008953), ('selyse baratheon', 0.3710372616061138), ('shadow tower brother', 0.3710372616061138), ('blacksmith', 0.3710372616061138), ('teela', 0.3710372616061138), ('bolton officer', 0.3706268221574344), ('karl tanner', 0.3702172897572605), ('orell', 0.3702172897572605), ('mandon moore', 0.36940093410178687), ('addam marbrand', 0.36899410487920786), ('leo lefford', 0.36899410487920786), ('myranda', 0.3685881707704298), ('kinvara', 0.3685881707704298), ('red priest', 0.3685881707704298), ('red priestess', 0.3685881707704298), ('high sparrow', 0.3685881707704298), ('black haired prostitute', 0.3685881707704298), ('timett', 0.3673757096823692), ('tycho nestoris', 0.36697332664876314), ('mance rayder', 0.36697332664876314), ('slave buyer', 0.36657182410319555), ('obara sand', 0.36657182410319555), ('othell yarwyck', 0.36657182410319555), ('areo hotah', 0.36617119915882046), ('old nan', 0.36617119915882046), ('qhorin', 0.36617119915882046), ('trystane martell', 0.3657714489413982), ('doran martell', 0.3653725705892265), ('dagmer', 0.3645774180961052), ('talisa stark', 0.36418113829382687), ('black lorren', 0.36418113829382687), ('reginald lannister', 0.3637857190340073), (\"innkeeper's daugher\", 0.3633911575166168), ('innkeeper', 0.3633911575166168), ('dying man', 0.3629974509537603), ('farlen', 0.36260459656961114), ('pig farmer', 0.36260459656961114), ('farmer hamlet', 0.36260459656961114), ('biter', 0.3622125916003467), ('lommy', 0.3622125916003467), ('lollys stokeworth', 0.3622125916003467), ('illyrio mopatis', 0.3614311189108098), ('lannister scout', 0.3614311189108098), ('colen of greenpools', 0.3614311189108098), ('winterfell shepherd', 0.3614311189108098), ('champion', 0.3610416457223284), ('mero', 0.36065301101218594), ('prendahl na ghezn', 0.36065301101218594), ('squire', 0.3602652120756137), ('lady anya waynwood', 0.3602652120756137), ('master of arms', 0.3602652120756137), ('vance corbray', 0.3602652120756137), ('lommy greenhands', 0.35987824621946374), ('derek', 0.35987824621946374), ('house manderly', 0.35987824621946374), ('thin man', 0.3591068030335699), ('rattleshirt', 0.3591068030335699), ('jaremy rykker', 0.3591068030335699), ('karsi', 0.35872232037507573), ('loboda', 0.35872232037507573), ('wildling elder', 0.35872232037507573), ('banker', 0.35872232037507573), ('syrio forel', 0.35872232037507573), ('wun wun', 0.3583386601393804), ('irri', 0.3583386601393804), ('doreah', 0.3583386601393804), ('dim dalba', 0.3583386601393804), ('mossador', 0.3579558196905136), ('marwyn', 0.3579558196905136), ('gerard', 0.35757379640375747), ('bowen marsh', 0.35757379640375747), ('fennesz', 0.35757379640375747), ('morag', 0.35719258766558715), ('denys mallister', 0.35719258766558715), ('bianca', 0.356812190873611), ('izembaro', 0.356812190873611), ('camello', 0.356812190873611), ('kraznys mo nakloz', 0.356812190873611), ('lady crane', 0.356812190873611), ('tobho mott', 0.3564326034365114), ('greizhen mo ullhor', 0.3564326034365114), ('quorin halfhand', 0.3564326034365114), ('waif', 0.35454671664584203), ('braavosi man', 0.3541719315331086), ('stable boy', 0.3541719315331086), ('brynden tully', 0.3534247333653172), ('jacks', 0.3534247333653172), ('jhiqui', 0.3534247333653172), ('galbart glover', 0.3519397554940344), ('rakharo', 0.3519397554940344), ('jonos bracken', 0.3519397554940344), ('bolton guard', 0.3519397554940344), ('first mate', 0.3519397554940344), ('balon greyjoy', 0.3515704587936209), ('khal drogo', 0.3512019363001265), ('sparrow', 0.3512019363001265), ('dirah (prostitue)', 0.3512019363001265), ('craya', 0.3512019363001265), ('qotho', 0.3512019363001265), ('mirri maz duur', 0.35083418558148766), ('xaro xhoan daxos', 0.3504672042158166), ('nymeria', 0.3504672042158166), ('viys targaryen', 0.3504672042158166), ('mago', 0.3504672042158166), ('kovarro', 0.35010098979134874), ('pyat pree', 0.35010098979134874), ('quaithe', 0.35010098979134874), ('wine merchant', 0.34973553990638906), ('ranger', 0.3486437536215616), ('goatherd', 0.3482813380772565), ('tanner', 0.3482813380772565), ('harry strickland', 0.3482813380772565), ('septa unella', 0.3475587626870547), ('khal moro', 0.34719859816613546), ('rhaegar targaryen', 0.34719859816613546), ('bloodrider', 0.3468391793274542), ('dothraki woman', 0.3468391793274542), ('septa', 0.3468391793274542), ('dothraki matron', 0.3468391793274542), ('matthos', 0.34648050385762225), ('mosador', 0.34648050385762225), ('maggy', 0.34648050385762225), ('cohollo', 0.34648050385762225), ('axell florent', 0.34612256945281067), ('child of the forest', 0.34612256945281067), ('cressen', 0.34612256945281067), ('khal #4', 0.34612256945281067), ('portan', 0.3457653738187004), ('drogo', 0.3457653738187004), ('leaf', 0.3457653738187004), ('lem', 0.3454089146704337), ('talla tarly', 0.3446981967390131), ('melessa tarly', 0.3446981967390131), ('tormund giantsbane', 0.3446981967390131), ('tomard', 0.34363758690289303), ('salladhor saan', 0.3432854992113942), ('lhara', 0.3429341322725903), ('ray', 0.3429341322725903), (\"night's watchman\", 0.34258348387558357), ('violet', 0.34258348387558357), ('tansy', 0.34258348387558357), ('gatins', 0.34258348387558357), ('ralf kenning', 0.3422335518185094), ('torturer', 0.3422335518185094), ('asha greyjoy', 0.34153582796159093), ('warg', 0.34084094326583997), (\"mole's town whore\", 0.34049456019341534), (\"mole's town madam\", 0.34049456019341534), ('drowned priest', 0.34014888043687386), ('harrag', 0.34014888043687386), ('little sam', 0.34014888043687386), ('quent', 0.33980390185630904), ('septon', 0.33980390185630904), ('assassin', 0.3391160397068023), ('ros (prostitute)', 0.33843095679830376), ('daisy', 0.33706906159992023), ('aeron greyjoy', 0.3353820292595803), ('steward', 0.3337118000301999), ('greyworm', 0.3333797484878813), ('the tickler', 0.33238754685547695), ('stevron frey', 0.33107376208529715), ('ryger rivers', 0.33107376208529715), ('elder meereen slave', 0.3284771051277654), ('merry', 0.32783429278896353), ('unsullied captain', 0.3275138291596488), ('martha', 0.3265561863843282), ('vala', 0.3265561863843282), ('waymar royce', 0.3240296394877376), ('gared', 0.3240296394877376), ('guard captain', 0.31788106947848266), ('roslin', 0.3157838333933277), ('hooded figure', 0.31225223413822994), ('house bolton', 0.30766450618027613), ('sand snakes', 0.3054208270103197), ('head prostitute', 0.30103023111439414), ('martyn lannister', 0.2991487921699292), ('willem', 0.2970271695304262), ('sissy', 0.2880882607311442), ('hugh of the vale', 0.2851460827492091), ('guymon', 0.28107940203885967), (\"olly's mother\", 0.28107940203885967), ('steward of house stark', 0.2634014522250949), ('bobono', 0.2631945382799063), ('clarenzo', 0.2631945382799063), ('white rat', 0.0), ('harpy', 0.0), ('rennick', 0.0), ('father', 0.0)]\n",
      "[('tyrion lannister', 0.641399416909621), ('jon snow', 0.4897959183673469), ('arya stark', 0.4606413994169096), ('sansa stark', 0.4606413994169096), ('jaime lannister', 0.45481049562682213), ('daenerys targaryen', 0.4198250728862974), ('cersei lannister', 0.40233236151603496), ('bronn', 0.3790087463556851), ('sam', 0.36151603498542273), ('bran stark', 0.3498542274052478), ('sandor clegane', 0.3206997084548105), ('theon greyjoy', 0.3206997084548105), ('catelyn stark', 0.3206997084548105), ('eddard stark', 0.3206997084548105), ('tormund', 0.3206997084548105), ('davos seaworth', 0.314868804664723), ('petyr baelish', 0.29737609329446063), ('brienne of tarth', 0.2915451895043732), ('robb stark', 0.27988338192419826), ('jorah mormont', 0.27988338192419826), ('gendry', 0.2565597667638484), ('varys', 0.24489795918367346), ('joffrey baratheon', 0.24489795918367346), ('janos slynt', 0.239067055393586), ('gilly', 0.23323615160349853), ('tywin lannister', 0.23323615160349853), ('podrick payne', 0.2215743440233236), ('grey worm', 0.21574344023323616), ('ellaria sand', 0.19825072886297376), ('renly baratheon', 0.18658892128279883), ('olenna tyrell', 0.18658892128279883), ('pycelle', 0.18658892128279883), ('edmure tully', 0.1749271137026239), ('yohn royce', 0.1749271137026239), ('margaery tyrell', 0.1749271137026239), ('qyburn', 0.1749271137026239), ('yara greyjoy', 0.1749271137026239), ('rodrik cassel', 0.16909620991253643), ('yoren', 0.16326530612244897), ('melisandre', 0.16326530612244897), ('barristan selmy', 0.1574344023323615), ('alliser thorne', 0.1574344023323615), ('missandei', 0.1574344023323615), ('wolkan', 0.15160349854227406), ('grenn', 0.1457725947521866), ('samwell tarly', 0.1457725947521866), ('oberyn martell', 0.1457725947521866), ('lyanna stark', 0.13994169096209913), ('ironborn', 0.13994169096209913), ('loras tyrell', 0.13994169096209913), ('roose bolton', 0.13411078717201166), ('pypar', 0.13411078717201166), ('ramsay bolton', 0.13411078717201166), ('robin arryn', 0.13411078717201166), ('ygritte', 0.1282798833819242), ('aemon', 0.1282798833819242), ('rickard karstark', 0.1282798833819242), ('lancel lannister', 0.1282798833819242), ('dontos hollard', 0.12244897959183673), ('hodor', 0.11661807580174927), ('mace tyrell', 0.11661807580174927), ('robert baratheon', 0.1107871720116618), ('locke', 0.1107871720116618), ('styr', 0.1107871720116618), ('meryn trant', 0.1107871720116618), ('stannis baratheon', 0.1107871720116618), ('benjen stark', 0.1107871720116618), ('meera reed', 0.10495626822157435), ('rast', 0.10495626822157435), ('beric dondarrion', 0.10495626822157435), ('eddison tollett', 0.09912536443148688), ('walder frey', 0.09912536443148688), ('olyvar', 0.09912536443148688), ('luwin', 0.09912536443148688), ('tommen baratheon', 0.09912536443148688), ('shae', 0.09912536443148688), ('stannis dwarf', 0.09329446064139942), ('euron greyjoy', 0.09329446064139942), ('dolorous edd', 0.09329446064139942), ('jeor mormont', 0.09329446064139942), ('vale', 0.09329446064139942), ('joffrey dwarf', 0.09329446064139942), ('balon dwarf', 0.09329446064139942), ('hot pie', 0.09329446064139942), ('riverlands', 0.09329446064139942), ('gold cloak', 0.08746355685131195), ('jojen reed', 0.08746355685131195), (\"night's watch\", 0.08746355685131195), ('osha', 0.08746355685131195), ('donnel hill', 0.08746355685131195), ('thenn warg', 0.08746355685131195), ('cooper', 0.08746355685131195), ('kevan lannister', 0.08746355685131195), ('talisa stark', 0.08163265306122448), (\"jaqen h'ghar\", 0.08163265306122448), ('myrcella baratheon', 0.08163265306122448), ('polliver', 0.08163265306122448), ('olly', 0.07580174927113703), ('rickon stark', 0.07580174927113703), ('high septon', 0.06997084548104957), ('daario naharis', 0.06997084548104957), ('ros', 0.06997084548104957), ('amory lorch', 0.06997084548104957), ('lothar frey', 0.06997084548104957), ('alton lannister', 0.06997084548104957), ('thoros', 0.06997084548104957), ('high sparrow', 0.06997084548104957), ('jory cassel', 0.0641399416909621), ('dagmer', 0.0641399416909621), ('dickon tarly', 0.0641399416909621), ('smalljon umber', 0.0641399416909621), ('othell yarwyck', 0.0641399416909621), ('marillion', 0.0641399416909621), ('randyll tarly', 0.0641399416909621), ('brynden tully (blackfish)', 0.0641399416909621), ('rakharo', 0.05830903790087463), ('shireen baratheon', 0.05830903790087463), ('black lorren', 0.05830903790087463), ('walder rivers', 0.05830903790087463), ('three-eyed raven', 0.05830903790087463), ('knight', 0.05830903790087463), ('greatjon umber', 0.052478134110787174), ('areo hotah', 0.052478134110787174), ('irri', 0.052478134110787174), ('biter', 0.052478134110787174), ('tyene sand', 0.052478134110787174), ('rorge', 0.052478134110787174), ('lysa arryn', 0.052478134110787174), ('lommy', 0.052478134110787174), ('lyanna mormont', 0.052478134110787174), ('obara sand', 0.052478134110787174), ('farlen', 0.052478134110787174), ('hizdahr zo loraq', 0.052478134110787174), ('doreah', 0.052478134110787174), ('selyse baratheon', 0.04664723032069971), ('karl tanner', 0.04664723032069971), ('knight of house bracken', 0.04664723032069971), ('mance rayder', 0.04664723032069971), ('khal drogo', 0.04664723032069971), ('marei', 0.04664723032069971), ('craster', 0.04664723032069971), ('masha heddle', 0.04664723032069971), ('knight of house whent', 0.04664723032069971), ('trystane martell', 0.04664723032069971), ('the mountain', 0.04664723032069971), ('qotho', 0.04664723032069971), ('razdal mo eraz', 0.04664723032069971), ('mossador', 0.04081632653061224), ('anguy', 0.04081632653061224), ('brynden tully', 0.04081632653061224), ('robett glover', 0.04081632653061224), ('varly', 0.04081632653061224), ('sparrow', 0.04081632653061224), ('doran martell', 0.04081632653061224), ('mirri maz duur', 0.04081632653061224), ('nymeria', 0.04081632653061224), ('blacksmith', 0.04081632653061224), ('mhaegen', 0.04081632653061224), ('bianca', 0.03498542274052478), ('xaro xhoan daxos', 0.03498542274052478), ('izembaro', 0.03498542274052478), ('myranda', 0.03498542274052478), ('camello', 0.03498542274052478), (\"morgan's friend\", 0.03498542274052478), ('morgan', 0.03498542274052478), ('will', 0.03498542274052478), ('orell', 0.03498542274052478), ('mero', 0.03498542274052478), ('gregor clegane', 0.03498542274052478), ('prendahl na ghezn', 0.03498542274052478), ('mordane', 0.03498542274052478), ('vardis egen', 0.03498542274052478), ('yezzan zo qaggaz', 0.03498542274052478), ('winterfell shepherd', 0.03498542274052478), ('kraznys mo nakloz', 0.03498542274052478), ('champion', 0.03498542274052478), ('jaremy rykker', 0.03498542274052478), ('viys targaryen', 0.03498542274052478), ('teela', 0.03498542274052478), ('lady crane', 0.03498542274052478), ('mago', 0.03498542274052478), ('arthur', 0.03498542274052478), ('talla tarly', 0.029154518950437316), ('elia martell', 0.029154518950437316), ('khal moro', 0.029154518950437316), ('galbart glover', 0.029154518950437316), ('lannister scout', 0.029154518950437316), ('matthos', 0.029154518950437316), ('qhorin', 0.029154518950437316), ('kovarro', 0.029154518950437316), ('colen of greenpools', 0.029154518950437316), ('bobono', 0.029154518950437316), ('rattleshirt', 0.029154518950437316), ('daisy', 0.029154518950437316), ('shadow tower brother', 0.029154518950437316), ('clarenzo', 0.029154518950437316), ('jonos bracken', 0.029154518950437316), ('pyat pree', 0.029154518950437316), ('melessa tarly', 0.029154518950437316), ('greizhen mo ullhor', 0.029154518950437316), ('belicho paenymion', 0.029154518950437316), ('shagga', 0.029154518950437316), ('walda frey', 0.029154518950437316), ('quaithe', 0.029154518950437316), ('unsullied', 0.029154518950437316), ('squire', 0.023323615160349854), ('bloodrider', 0.023323615160349854), (\"innkeeper's daugher\", 0.023323615160349854), ('dothraki woman', 0.023323615160349854), ('lommy greenhands', 0.023323615160349854), ('wine merchant', 0.023323615160349854), ('karsi', 0.023323615160349854), ('loboda', 0.023323615160349854), ('axell florent', 0.023323615160349854), ('lady anya waynwood', 0.023323615160349854), ('mord', 0.023323615160349854), ('vicky', 0.023323615160349854), ('ros (prostitute)', 0.023323615160349854), ('bowen marsh', 0.023323615160349854), ('child of the forest', 0.023323615160349854), ('innkeeper', 0.023323615160349854), ('dirah (prostitue)', 0.023323615160349854), ('jhiqui', 0.023323615160349854), ('thin man', 0.023323615160349854), ('quent', 0.023323615160349854), ('tanner', 0.023323615160349854), ('cressen', 0.023323615160349854), ('balon greyjoy', 0.023323615160349854), ('bolton officer', 0.023323615160349854), ('malko', 0.023323615160349854), ('wildling elder', 0.023323615160349854), ('lem', 0.023323615160349854), ('nora', 0.023323615160349854), ('derek', 0.023323615160349854), ('master of arms', 0.023323615160349854), ('craya', 0.023323615160349854), ('addam marbrand', 0.023323615160349854), ('willa', 0.023323615160349854), ('leo lefford', 0.023323615160349854), ('bolton guard', 0.023323615160349854), ('sarra', 0.023323615160349854), ('vance corbray', 0.023323615160349854), ('house manderly', 0.023323615160349854), ('handmaiden', 0.023323615160349854), ('dothraki matron', 0.023323615160349854), ('quick', 0.023323615160349854), ('septon', 0.023323615160349854), ('fennesz', 0.023323615160349854), ('first mate', 0.023323615160349854), ('assassin', 0.01749271137026239), ('reginald lannister', 0.01749271137026239), ('mandon moore', 0.01749271137026239), ('stevron frey', 0.01749271137026239), ('tycho nestoris', 0.01749271137026239), ('wun wun', 0.01749271137026239), ('marwyn', 0.01749271137026239), ('illyrio mopatis', 0.01749271137026239), ('goatherd', 0.01749271137026239), ('gerard', 0.01749271137026239), ('dying man', 0.01749271137026239), (\"mole's town whore\", 0.01749271137026239), ('ryger rivers', 0.01749271137026239), ('waymar royce', 0.01749271137026239), ('old nan', 0.01749271137026239), ('warg', 0.01749271137026239), ('guymon', 0.01749271137026239), (\"olly's mother\", 0.01749271137026239), ('mycah', 0.01749271137026239), ('martyn lannister', 0.01749271137026239), ('tobho mott', 0.01749271137026239), ('morag', 0.01749271137026239), ('violet', 0.01749271137026239), ('banker', 0.01749271137026239), ('salladhor saan', 0.01749271137026239), ('septa unella', 0.01749271137026239), ('denys mallister', 0.01749271137026239), (\"mole's town madam\", 0.01749271137026239), ('leaf', 0.01749271137026239), ('guard captain', 0.01749271137026239), ('gared', 0.01749271137026239), ('cohollo', 0.01749271137026239), ('syrio forel', 0.01749271137026239), ('tansy', 0.01749271137026239), ('slaver', 0.01749271137026239), ('dim dalba', 0.01749271137026239), ('ranger', 0.011661807580174927), ('slave buyer', 0.011661807580174927), ('hooded figure', 0.011661807580174927), ('timett', 0.011661807580174927), ('septa', 0.011661807580174927), ('aeron greyjoy', 0.011661807580174927), ('lhara', 0.011661807580174927), ('willem', 0.011661807580174927), ('jacks', 0.011661807580174927), ('rhaegar targaryen', 0.011661807580174927), ('ray', 0.011661807580174927), ('kinvara', 0.011661807580174927), ('mosador', 0.011661807580174927), ('waif', 0.011661807580174927), ('portan', 0.011661807580174927), ('elder meereen slave', 0.011661807580174927), ('red priest', 0.011661807580174927), ('hallyne', 0.011661807580174927), ('khal #4', 0.011661807580174927), ('sissy', 0.011661807580174927), ('greyworm', 0.011661807580174927), ('harry strickland', 0.011661807580174927), ('pig farmer', 0.011661807580174927), ('roslin', 0.011661807580174927), ('red priestess', 0.011661807580174927), ('tomard', 0.011661807580174927), ('brothel keeper', 0.011661807580174927), ('ralf kenning', 0.011661807580174927), ('house bolton', 0.011661807580174927), ('torturer', 0.011661807580174927), ('black haired prostitute', 0.011661807580174927), ('the tickler', 0.011661807580174927), ('merry', 0.011661807580174927), ('asha greyjoy', 0.011661807580174927), ('farmer hamlet', 0.011661807580174927), ('tormund giantsbane', 0.011661807580174927), ('little sam', 0.011661807580174927), ('lollys stokeworth', 0.011661807580174927), ('steward', 0.0058309037900874635), ('head prostitute', 0.0058309037900874635), ('braavosi man', 0.0058309037900874635), ('drowned priest', 0.0058309037900874635), ('unsullied captain', 0.0058309037900874635), (\"night's watchman\", 0.0058309037900874635), ('steward of house stark', 0.0058309037900874635), ('drogo', 0.0058309037900874635), ('sand snakes', 0.0058309037900874635), ('harrag', 0.0058309037900874635), ('maggy', 0.0058309037900874635), ('hugh of the vale', 0.0058309037900874635), ('stable boy', 0.0058309037900874635), ('quorin halfhand', 0.0058309037900874635), ('martha', 0.0058309037900874635), ('vala', 0.0058309037900874635), ('gatins', 0.0058309037900874635), ('white rat', 0.0), ('harpy', 0.0), ('rennick', 0.0), ('father', 0.0)]\n"
     ]
    }
   ],
   "source": [
    "closenesscentrality = nx.closeness_centrality(G)\n",
    "centrality = sorted(closenesscentrality.items(), key = lambda x: -x[1])\n",
    "print(centrality)\n",
    "\n",
    "degreecentrality = nx.degree_centrality(G)\n",
    "centrality = sorted(degreecentrality.items(), key = lambda x: -x[1])\n",
    "print(centrality)"
   ]
  },
  {
   "cell_type": "markdown",
   "metadata": {},
   "source": [
    "Here the centrality measures are plotted as histograms ontop of eachother. "
   ]
  },
  {
   "cell_type": "code",
   "execution_count": 44,
   "metadata": {},
   "outputs": [
    {
     "name": "stderr",
     "output_type": "stream",
     "text": [
      "/home/tbr/miniconda3/envs/SocialG/lib/python3.12/site-packages/seaborn/_oldcore.py:1498: FutureWarning: is_categorical_dtype is deprecated and will be removed in a future version. Use isinstance(dtype, CategoricalDtype) instead\n",
      "  if pd.api.types.is_categorical_dtype(vector):\n",
      "/home/tbr/miniconda3/envs/SocialG/lib/python3.12/site-packages/seaborn/_oldcore.py:1119: FutureWarning: use_inf_as_na option is deprecated and will be removed in a future version. Convert inf values to NaN before operating instead.\n",
      "  with pd.option_context('mode.use_inf_as_na', True):\n",
      "/home/tbr/miniconda3/envs/SocialG/lib/python3.12/site-packages/seaborn/_oldcore.py:1498: FutureWarning: is_categorical_dtype is deprecated and will be removed in a future version. Use isinstance(dtype, CategoricalDtype) instead\n",
      "  if pd.api.types.is_categorical_dtype(vector):\n",
      "/home/tbr/miniconda3/envs/SocialG/lib/python3.12/site-packages/seaborn/_oldcore.py:1119: FutureWarning: use_inf_as_na option is deprecated and will be removed in a future version. Convert inf values to NaN before operating instead.\n",
      "  with pd.option_context('mode.use_inf_as_na', True):\n"
     ]
    },
    {
     "data": {
      "text/plain": [
       "<matplotlib.legend.Legend at 0x7fbcc53f29c0>"
      ]
     },
     "execution_count": 44,
     "metadata": {},
     "output_type": "execute_result"
    },
    {
     "data": {
      "image/png": "[encoded data removed]",
      "text/plain": [
       "<Figure size 640x480 with 1 Axes>"
      ]
     },
     "metadata": {},
     "output_type": "display_data"
    }
   ],
   "source": [
    "import matplotlib.pyplot as plt\n",
    "plt.figure()\n",
    "sns.histplot(x = [float(closenesscentrality[k]) for k in closenesscentrality.keys()], bins = 20, color=\"darkblue\")\n",
    "sns.histplot(x = [float(degreecentrality[k]) for k in degreecentrality.keys()], bins = 20, color = \"darkred\")\n",
    "plt.xlabel(\"Centrality measure\")\n",
    "plt.legend([\"Closeness centrality\",\"Degree centrality\"])"
   ]
  }
 ],
 "metadata": {
  "kernelspec": {
   "display_name": "Python 3 (ipykernel)",
   "language": "python",
   "name": "python3"
  },
  "language_info": {
   "codemirror_mode": {
    "name": "ipython",
    "version": 3
   },
   "file_extension": ".py",
   "mimetype": "text/x-python",
   "name": "python",
   "nbconvert_exporter": "python",
   "pygments_lexer": "ipython3",
   "version": "3.12.0"
  }
 },
 "nbformat": 4,
 "nbformat_minor": 4
}
