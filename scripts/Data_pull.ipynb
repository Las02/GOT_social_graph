{
 "cells": [
  {
   "cell_type": "code",
   "execution_count": 1,
   "metadata": {},
   "outputs": [],
   "source": [
    "episodefile = open(\"../data/EpisodeList.txt\",\"r\")\n",
    "episodeList = []\n",
    "\n",
    "for line in episodefile:\n",
    "    episodeList.append(line.strip().lower().replace(\",\",\"\"))\n",
    "\n",
    "SeasonList = [10,10,10,10,10,10,7,6]\n",
    "episodeTuple = []\n",
    "ekstranumb = 0\n",
    "for numb in range(len(SeasonList)):\n",
    "    for i in range(SeasonList[numb]):\n",
    "        episodeTuple.append((numb+1, episodeList[i+ekstranumb]))\n",
    "    ekstranumb += SeasonList[numb]"
   ]
  },
  {
   "cell_type": "code",
   "execution_count": 5,
   "metadata": {},
   "outputs": [
    {
     "name": "stdout",
     "output_type": "stream",
     "text": [
      "Collecting lyricsgenius\n",
      "  Using cached lyricsgenius-3.0.1-py3-none-any.whl (59 kB)\n",
      "Requirement already satisfied: beautifulsoup4>=4.6.0 in c:\\users\\anton\\appdata\\local\\packages\\pythonsoftwarefoundation.python.3.10_qbz5n2kfra8p0\\localcache\\local-packages\\python310\\site-packages (from lyricsgenius) (4.12.2)\n",
      "Requirement already satisfied: requests>=2.20.0 in c:\\users\\anton\\appdata\\local\\packages\\pythonsoftwarefoundation.python.3.10_qbz5n2kfra8p0\\localcache\\local-packages\\python310\\site-packages (from lyricsgenius) (2.31.0)\n",
      "Requirement already satisfied: soupsieve>1.2 in c:\\users\\anton\\appdata\\local\\packages\\pythonsoftwarefoundation.python.3.10_qbz5n2kfra8p0\\localcache\\local-packages\\python310\\site-packages (from beautifulsoup4>=4.6.0->lyricsgenius) (2.5)\n",
      "Requirement already satisfied: charset-normalizer<4,>=2 in c:\\users\\anton\\appdata\\local\\packages\\pythonsoftwarefoundation.python.3.10_qbz5n2kfra8p0\\localcache\\local-packages\\python310\\site-packages (from requests>=2.20.0->lyricsgenius) (3.2.0)\n",
      "Requirement already satisfied: idna<4,>=2.5 in c:\\users\\anton\\appdata\\local\\packages\\pythonsoftwarefoundation.python.3.10_qbz5n2kfra8p0\\localcache\\local-packages\\python310\\site-packages (from requests>=2.20.0->lyricsgenius) (3.4)\n",
      "Requirement already satisfied: urllib3<3,>=1.21.1 in c:\\users\\anton\\appdata\\local\\packages\\pythonsoftwarefoundation.python.3.10_qbz5n2kfra8p0\\localcache\\local-packages\\python310\\site-packages (from requests>=2.20.0->lyricsgenius) (2.0.4)\n",
      "Requirement already satisfied: certifi>=2017.4.17 in c:\\users\\anton\\appdata\\local\\packages\\pythonsoftwarefoundation.python.3.10_qbz5n2kfra8p0\\localcache\\local-packages\\python310\\site-packages (from requests>=2.20.0->lyricsgenius) (2023.7.22)\n",
      "Installing collected packages: lyricsgenius\n",
      "Successfully installed lyricsgenius-3.0.1\n"
     ]
    },
    {
     "name": "stderr",
     "output_type": "stream",
     "text": [
      "\n",
      "[notice] A new release of pip is available: 23.2.1 -> 23.3.1\n",
      "[notice] To update, run: C:\\Users\\anton\\AppData\\Local\\Microsoft\\WindowsApps\\PythonSoftwareFoundation.Python.3.10_qbz5n2kfra8p0\\python.exe -m pip install --upgrade pip\n"
     ]
    }
   ],
   "source": [
    "! pip install lyricsgenius"
   ]
  },
  {
   "cell_type": "code",
   "execution_count": 6,
   "metadata": {},
   "outputs": [
    {
     "name": "stdout",
     "output_type": "stream",
     "text": [
      "Searching for songs by Game of Thrones...\n",
      "\n",
      "Song 1: \"Winter is Coming\"\n",
      "Song 2: \"Tyrion’s Courtroom Speech from The Laws of Gods and Men\"\n",
      "Song 3: \"Kill the Boy\"\n",
      "Song 4: \"Mother’s Mercy\"\n",
      "Song 5: \"The Kingsroad\"\n",
      "Song 6: \"The House of Black and White\"\n",
      "Song 7: \"The Children\"\n",
      "Song 8: \"Hardhome\"\n",
      "Song 9: \"Liste des personnages\"\n",
      "Song 10: \"The Wars to Come\"\n",
      "Song 11: \"The Queen’s Justice\"\n",
      "Song 12: \"Lord Snow\"\n",
      "Song 13: \"High Sparrow\"\n",
      "Song 14: \"The Dance of Dragons\"\n",
      "Song 15: \"The Wolf and the Lion\"\n",
      "Song 16: \"Cripples, Bastards and Broken Things\"\n",
      "Song 17: \"The Winds of Winter\"\n",
      "Song 18: \"Battle of the Bastards\"\n",
      "Song 19: \"Book of the Stranger\"\n",
      "Song 20: \"The Door\"\n",
      "Song 21: \"The Red Woman\"\n",
      "Song 22: \"You Win or You Die\"\n",
      "Song 23: \"The North Remembers\"\n",
      "Song 24: \"The Pointy End\"\n",
      "Song 25: \"The Mountain and the Viper\"\n",
      "Song 26: \"Unbowed, Unbent, Unbroken\"\n",
      "Song 27: \"Oathbreaker\"\n",
      "Song 28: \"The Gift\"\n",
      "Song 29: \"Dragonstone\"\n",
      "Song 30: \"A Golden Crown\"\n",
      "Song 31: \"Fire and Blood\"\n",
      "Song 32: \"The Rains of Castamere\"\n",
      "Song 33: \"Baelor\"\n",
      "Song 34: \"No One\"\n",
      "Song 35: \"Stormborn\"\n",
      "Song 36: \"Blood of My Blood\"\n",
      "Song 37: \"Home\"\n",
      "Song 38: \"Sons of the Harpy\"\n",
      "Song 39: \"The Night Lands\"\n",
      "Song 40: \"Beyond the Wall\"\n",
      "Song 41: \"The Laws of Gods and Men\"\n",
      "Song 42: \"The Broken Man\"\n",
      "Song 43: \"Eastwatch\"\n",
      "Song 44: \"Oathkeeper\"\n",
      "Song 45: \"The Spoils Of War\"\n",
      "Song 46: \"Two Swords\"\n",
      "Song 47: \"The Dragon and the Wolf\"\n",
      "Song 48: \"Breaker of Chains\"\n",
      "Song 49: \"First of His Name\"\n",
      "Song 50: \"The Watchers on the Wall\"\n",
      "Song 51: \"The Lion and the Rose\"\n",
      "Song 52: \"Kissed by Fire\"\n",
      "Song 53: \"Valar Dohaeris\"\n",
      "Song 54: \"What Is Dead May Never Die\"\n",
      "Song 55: \"Mockingbird\"\n",
      "Song 56: \"Garden of Bones\"\n",
      "Song 57: \"The Climb\"\n",
      "Song 58: \"And Now His Watch Is Ended\"\n",
      "Song 59: \"The Ghost of Harrenhal\"\n",
      "Song 60: \"Walk of Punishment\"\n",
      "Song 61: \"Valar Morghulis\"\n",
      "Song 62: \"Dark Wings, Dark Words\"\n",
      "Song 63: \"The Bear and the Maiden Fair\"\n",
      "Song 64: \"Winterfell\"\n",
      "Song 65: \"A Man Without Honor\"\n",
      "Song 66: \"The Iron Throne\"\n",
      "Song 67: \"The Old Gods and the New\"\n",
      "Song 68: \"Second Sons\"\n",
      "Song 69: \"Mhysa\"\n",
      "Song 70: \"A Knight of the Seven Kingdoms\"\n",
      "Song 71: \"Blackwater\"\n",
      "Song 72: \"The Last of the Starks\"\n",
      "Song 73: \"The Prince of Winterfell\"\n",
      "Song 74: \"The Long Night\"\n",
      "Song 75: \"The Bells\"\n",
      "Song 76: \"Season 4 Preview\"\n",
      "Song 77: \"Episode 01 : L’hiver vient\"\n",
      "Song 78: \"Season 5 Trailer Breakdown\"\n",
      "Song 79: \"The Riddle About Power\"\n",
      "Song 80: \"It’s Always Summer Under the Sea\"\n",
      "\"The Rains Of Castmare (Cover)\" is not valid. Skipping.\n",
      "Done. Found 80 songs.\n",
      "Wrote Lyrics_GameofThrones.json.\n"
     ]
    }
   ],
   "source": [
    "import lyricsgenius\n",
    "genius = lyricsgenius.Genius(\"Apa5yYNZVRkIvn1izsQWN5l957pSR9jiG24s8ExAPKE9FHY9gdq4W8P7GPavWn1n\")\n",
    "artist = genius.search_artist(\"Game of Thrones\")\n",
    "artist.save_lyrics()"
   ]
  },
  {
   "cell_type": "code",
   "execution_count": 7,
   "metadata": {},
   "outputs": [],
   "source": [
    "import json\n",
    "jFile = open(\"Lyrics_GameofThrones.json\", \"r\")\n",
    "j = json.load(jFile)\n",
    "\n",
    "#Ignore this\n",
    "#Dont even worry about it\n",
    "#Just a simple Dict comprehension, no need to analyze it\n",
    "LyricsListDict = {j[\"songs\"][w][\"title_with_featured\"].lower().replace(\",\",\"\"):j[\"songs\"][w][\"lyrics\"].encode(\"UTF-8\").decode(\"UTF-8\") \n",
    "                    for w in range(len(j[\"songs\"])) \n",
    "                    if j[\"songs\"][w][\"title_with_featured\"].lower().replace(\",\",\"\") in episodeList}\n",
    "\n"
   ]
  },
  {
   "cell_type": "code",
   "execution_count": 8,
   "metadata": {},
   "outputs": [],
   "source": [
    "SeasonDict = dict()\n",
    "#SeasonDict format\n",
    "# {Title:{Season:SeasonNumber,Script:ScriptText}}\n",
    "for season, title in episodeTuple:\n",
    "    SeasonDict[title] = { \"season\": season,\"script\":LyricsListDict[title]}\n"
   ]
  },
  {
   "cell_type": "code",
   "execution_count": null,
   "metadata": {},
   "outputs": [],
   "source": []
  }
 ],
 "metadata": {
  "kernelspec": {
   "display_name": "base",
   "language": "python",
   "name": "python3"
  },
  "language_info": {
   "codemirror_mode": {
    "name": "ipython",
    "version": 3
   },
   "file_extension": ".py",
   "mimetype": "text/x-python",
   "name": "python",
   "nbconvert_exporter": "python",
   "pygments_lexer": "ipython3",
   "version": "3.10.11"
  }
 },
 "nbformat": 4,
 "nbformat_minor": 2
}
