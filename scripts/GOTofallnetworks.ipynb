{
 "cells": [
  {
   "cell_type": "code",
   "execution_count": 33,
   "metadata": {},
   "outputs": [],
   "source": [
    "import networkx as nx\n",
    "import pandas as pd\n",
    "\n",
    "dfcolumns = columns=['Person','Season','Episode','Scene','ScreenLine']\n",
    "df = pd.DataFrame(columns=dfcolumns)\n",
    "\n",
    "sceneList = []\n",
    "\n",
    "with open(\"../data/S8E1.txt\",'r') as file:\n",
    "    sceneName = \"\"\n",
    "    season = 8\n",
    "    episode = 1\n",
    "    allLines = []\n",
    "    for line in file:\n",
    "        lineSplit = line.strip().split(\":\")\n",
    "        \n",
    "        if lineSplit[0] == \"CUT TO\":\n",
    "            sceneName = lineSplit[1]\n",
    "            \n",
    "            #Giving the sceneName an extra number if the sceneName occurs multiple times\n",
    "            if sceneName not in sceneList:\n",
    "                sceneList.append(sceneName)\n",
    "            else:\n",
    "                sceneList.append(sceneName)\n",
    "                sceneName = sceneName + str(sceneList.count(sceneName))\n",
    "\n",
    "        elif line.startswith('TITLE SEQUENCE') or line.startswith('CREDITS') or line.startswith('EXT.') or line.startswith('INT.'):\n",
    "            pass\n",
    "        elif len(lineSplit) > 1:\n",
    "            person = lineSplit[0]\n",
    "            screenLine = lineSplit[1]\n",
    "            \n",
    "            newEntry = [person, season, episode, sceneName, screenLine]\n",
    "            allLines.append(newEntry)\n",
    "\n",
    "df = pd.DataFrame(allLines,columns=dfcolumns)\n",
    "\n",
    "\n"
   ]
  },
  {
   "cell_type": "code",
   "execution_count": 36,
   "metadata": {},
   "outputs": [
    {
     "name": "stdout",
     "output_type": "stream",
     "text": [
      "0          HORSE-DRAWN CARRIAGE\n",
      "1          HORSE-DRAWN CARRIAGE\n",
      "2          HORSE-DRAWN CARRIAGE\n",
      "3          HORSE-DRAWN CARRIAGE\n",
      "4       WINTERFELL – FRONT GATE\n",
      "                 ...           \n",
      "303         WINTERFELL - CRYPTS\n",
      "304         WINTERFELL - CRYPTS\n",
      "305         WINTERFELL - CRYPTS\n",
      "306         WINTERFELL - CRYPTS\n",
      "307         WINTERFELL - CRYPTS\n",
      "Name: Scene, Length: 308, dtype: object\n"
     ]
    }
   ],
   "source": [
    "print(df.Scene)"
   ]
  }
 ],
 "metadata": {
  "kernelspec": {
   "display_name": "socialg11",
   "language": "python",
   "name": "python3"
  },
  "language_info": {
   "codemirror_mode": {
    "name": "ipython",
    "version": 3
   },
   "file_extension": ".py",
   "mimetype": "text/x-python",
   "name": "python",
   "nbconvert_exporter": "python",
   "pygments_lexer": "ipython3",
   "version": "3.11.2"
  }
 },
 "nbformat": 4,
 "nbformat_minor": 2
}
