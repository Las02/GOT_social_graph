{
 "cells": [
  {
   "cell_type": "code",
   "execution_count": 33,
   "metadata": {},
   "outputs": [],
   "source": [
    "import networkx as nx\n",
    "import pandas as pd\n",
    "\n",
    "dfcolumns = columns=['Person','Season','Episode','Scene','ScreenLine']\n",
    "df = pd.DataFrame(columns=dfcolumns)\n",
    "\n",
    "sceneList = []\n",
    "\n",
    "with open(\"../data/S8E1.txt\",'r') as file:\n",
    "    sceneName = \"\"\n",
    "    season = 8\n",
    "    episode = 1\n",
    "    allLines = []\n",
    "    for line in file:\n",
    "        lineSplit = line.strip().split(\":\")\n",
    "        \n",
    "        if lineSplit[0] == \"CUT TO\":\n",
    "            sceneName = lineSplit[1]\n",
    "            \n",
    "            #Giving the sceneName an extra number if the sceneName occurs multiple times\n",
    "            if sceneName not in sceneList:\n",
    "                sceneList.append(sceneName)\n",
    "            else:\n",
    "                sceneList.append(sceneName)\n",
    "                sceneName = sceneName + str(sceneList.count(sceneName))\n",
    "\n",
    "        elif line.startswith('TITLE SEQUENCE') or line.startswith('CREDITS') or line.startswith('EXT.') or line.startswith('INT.'):\n",
    "            pass\n",
    "        elif len(lineSplit) > 1:\n",
    "            person = lineSplit[0]\n",
    "            screenLine = lineSplit[1]\n",
    "            \n",
    "            newEntry = [person, season, episode, sceneName, screenLine]\n",
    "            allLines.append(newEntry)\n",
    "\n",
    "df = pd.DataFrame(allLines,columns=dfcolumns)\n",
    "\n",
    "\n"
   ]
  },
  {
   "cell_type": "code",
   "execution_count": 34,
   "metadata": {},
   "outputs": [
    {
     "name": "stdout",
     "output_type": "stream",
     "text": [
      "      Person  Season  Episode                     Scene  \\\n",
      "0     TYRION       8        1      HORSE-DRAWN CARRIAGE   \n",
      "1      VARYS       8        1      HORSE-DRAWN CARRIAGE   \n",
      "2     TYRION       8        1      HORSE-DRAWN CARRIAGE   \n",
      "3        JON       8        1      HORSE-DRAWN CARRIAGE   \n",
      "4        JON       8        1   WINTERFELL – FRONT GATE   \n",
      "..       ...     ...      ...                       ...   \n",
      "303    BERIC       8        1       WINTERFELL - CRYPTS   \n",
      "304  TORMUND       8        1       WINTERFELL - CRYPTS   \n",
      "305      EDD       8        1       WINTERFELL - CRYPTS   \n",
      "306  TORMUND       8        1       WINTERFELL - CRYPTS   \n",
      "307  TORMUND       8        1       WINTERFELL - CRYPTS   \n",
      "\n",
      "                                            ScreenLine  \n",
      "0     You should consider yourself lucky. At least ...  \n",
      "1     You take great offense at dwarf jokes, but lo...  \n",
      "2                 Because I have balls, and you don't.  \n",
      "3     I warned you. Northerners don't much trust ou...  \n",
      "4                                         Look at you.  \n",
      "..                                                 ...  \n",
      "303               It's a message. From the Night King.  \n",
      "304   His army's between us and Winterfell. We're o...  \n",
      "305   We rode down from Castle Black. We can double...  \n",
      "306   If the horses last, we'll get there before th...  \n",
      "307   We just have to hope the Night King doesn't c...  \n",
      "\n",
      "[308 rows x 5 columns]\n"
     ]
    }
   ],
   "source": [
    "print(df)"
   ]
  }
 ],
 "metadata": {
  "kernelspec": {
   "display_name": "socialg11",
   "language": "python",
   "name": "python3"
  },
  "language_info": {
   "codemirror_mode": {
    "name": "ipython",
    "version": 3
   },
   "file_extension": ".py",
   "mimetype": "text/x-python",
   "name": "python",
   "nbconvert_exporter": "python",
   "pygments_lexer": "ipython3",
   "version": "3.11.2"
  }
 },
 "nbformat": 4,
 "nbformat_minor": 2
}
